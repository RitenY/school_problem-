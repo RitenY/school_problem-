{
 "cells": [
  {
   "cell_type": "code",
   "execution_count": 3,
   "metadata": {},
   "outputs": [
    {
     "name": "stdout",
     "output_type": "stream",
     "text": [
      "       2019  f_rate  gaku  life  sports  morals  jison\n",
      "0  Hokkaido    4.53  61.3   5.0   40.28     5.0    5.1\n",
      "1    Aomori    3.21  63.0   5.2   42.28     5.3    5.5\n",
      "2     Iwate    3.09  60.7   5.4   43.48     5.3    5.0\n",
      "3    Miyagi    5.15  61.7   5.2   41.77     4.8    4.9\n",
      "4     Akita    3.19  66.7   6.0   43.87     5.5    6.1\n",
      "       2021  f_rate  gaku  life  sports  morals  jison\n",
      "0  Hokkaido    5.99  60.5   5.1   39.31     4.9    4.9\n",
      "1    Aomori    4.71  61.0   5.1   41.82     5.4    5.5\n",
      "2     Iwate    3.99  60.0   5.6   43.74     5.5    5.1\n",
      "3    Miyagi    6.08  60.0   5.4   41.41     4.9    4.9\n",
      "4     Akita    4.44  64.0   5.9   44.00     5.7    5.8\n"
     ]
    }
   ],
   "source": [
    "#2017-2021年の中学生のデータを取り込み\n",
    "import pandas as pd\n",
    "df2019 = pd.read_csv('pref_2019.csv')\n",
    "df2021 = pd.read_csv('pref_2021.csv')\n",
    "print(df2019.head())\n",
    "print(df2021.head())"
   ]
  },
  {
   "cell_type": "code",
   "execution_count": 4,
   "metadata": {},
   "outputs": [
    {
     "data": {
      "text/plain": [
       "TtestResult(statistic=-22.356497006048954, pvalue=2.387327584988388e-26, df=46)"
      ]
     },
     "execution_count": 4,
     "metadata": {},
     "output_type": "execute_result"
    }
   ],
   "source": [
    "import scipy as sp\n",
    "a = df2019['f_rate']\n",
    "b = df2021['f_rate']\n",
    "sp.stats.ttest_rel(a,b)"
   ]
  }
 ],
 "metadata": {
  "kernelspec": {
   "display_name": "Python 3",
   "language": "python",
   "name": "python3"
  },
  "language_info": {
   "codemirror_mode": {
    "name": "ipython",
    "version": 3
   },
   "file_extension": ".py",
   "mimetype": "text/x-python",
   "name": "python",
   "nbconvert_exporter": "python",
   "pygments_lexer": "ipython3",
   "version": "3.9.6"
  },
  "orig_nbformat": 4
 },
 "nbformat": 4,
 "nbformat_minor": 2
}
