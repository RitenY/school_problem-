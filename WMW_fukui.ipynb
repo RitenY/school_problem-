{
 "cells": [
  {
   "cell_type": "code",
   "execution_count": 54,
   "metadata": {},
   "outputs": [],
   "source": [
    "import pandas as pd\n",
    "\n",
    "#福井と全国平均を比べる\n",
    "a = [0.95,1.42,1.39,1.62,1.69,1.80,1.79,1.75,1.84,2.11,2.34,2.44,2.45,2.44,2.52,2.49,2.64,2.61,2.54,2.42,2.08,2.09,2.10,2.12,2.26,2.36,2.67,2.57,2.88,2.95,3.54]\n",
    "b = [1.04,1.16,1.24,1.32,1.42,1.65,1.89,2.32,2.45,2.63,2.81,2.73,2.73,2.73,2.75,2.86,2.91,2.89,2.78,2.73,2.65,2.57,2.69,2.76,2.84,3.03,3.27,3.68,3.98,4.13,5.06]\n"
   ]
  },
  {
   "cell_type": "code",
   "execution_count": 55,
   "metadata": {},
   "outputs": [
    {
     "data": {
      "text/plain": [
       "278.5"
      ]
     },
     "execution_count": 55,
     "metadata": {},
     "output_type": "execute_result"
    }
   ],
   "source": [
    "from scipy.stats import mannwhitneyu\n",
    "\n",
    "#福井県の検定統計量U1を計算\n",
    "U1, p = mannwhitneyu(a,b, method = 'exact')\n",
    "U1"
   ]
  },
  {
   "cell_type": "code",
   "execution_count": 56,
   "metadata": {},
   "outputs": [
    {
     "data": {
      "text/plain": [
       "682.5"
      ]
     },
     "execution_count": 56,
     "metadata": {},
     "output_type": "execute_result"
    }
   ],
   "source": [
    "#全国平均の検定統計量U2を計算\n",
    "nx, ny = len(a), len(b)\n",
    "U2 = nx * ny -U1\n",
    "U2"
   ]
  },
  {
   "cell_type": "code",
   "execution_count": 57,
   "metadata": {},
   "outputs": [
    {
     "data": {
      "text/plain": [
       "0.004142464116091802"
      ]
     },
     "execution_count": 57,
     "metadata": {},
     "output_type": "execute_result"
    }
   ],
   "source": [
    "#P値を表示\n",
    "p"
   ]
  },
  {
   "cell_type": "code",
   "execution_count": 64,
   "metadata": {},
   "outputs": [
    {
     "data": {
      "image/png": "[encoded data removed]",
      "text/plain": [
       "<Figure size 640x480 with 1 Axes>"
      ]
     },
     "metadata": {},
     "output_type": "display_data"
    }
   ],
   "source": [
    "#ヒストグラムの表示\n",
    "import numpy as np\n",
    "import matplotlib.pyplot as plt\n",
    "\n",
    "#等差数列を作るための関数 np.linspace を使って、0から6の間で12等分した幅を指定\n",
    "bins = np.linspace(0, 6, 12)\n",
    "\n",
    "#plt.histを2回呼び出してヒストグラムをプロットすることで重ねて表示\n",
    "plt.hist(a, bins, alpha = 0.5, label='fukui')\n",
    "plt.hist(b, bins, alpha = 0.5, label='all')\n",
    "\n",
    "#ラベルの表示\n",
    "plt.legend()\n",
    "\n",
    "#ヒストグラムの表示\n",
    "plt.show()"
   ]
  }
 ],
 "metadata": {
  "kernelspec": {
   "display_name": "Python 3",
   "language": "python",
   "name": "python3"
  },
  "language_info": {
   "codemirror_mode": {
    "name": "ipython",
    "version": 3
   },
   "file_extension": ".py",
   "mimetype": "text/x-python",
   "name": "python",
   "nbconvert_exporter": "python",
   "pygments_lexer": "ipython3",
   "version": "3.9.6"
  },
  "orig_nbformat": 4
 },
 "nbformat": 4,
 "nbformat_minor": 2
}
