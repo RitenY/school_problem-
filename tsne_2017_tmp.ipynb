{
 "cells": [
  {
   "cell_type": "code",
   "execution_count": 1,
   "metadata": {},
   "outputs": [
    {
     "data": {
      "text/html": [
       "<div>\n",
       "<style scoped>\n",
       "    .dataframe tbody tr th:only-of-type {\n",
       "        vertical-align: middle;\n",
       "    }\n",
       "\n",
       "    .dataframe tbody tr th {\n",
       "        vertical-align: top;\n",
       "    }\n",
       "\n",
       "    .dataframe thead th {\n",
       "        text-align: right;\n",
       "    }\n",
       "</style>\n",
       "<table border=\"1\" class=\"dataframe\">\n",
       "  <thead>\n",
       "    <tr style=\"text-align: right;\">\n",
       "      <th></th>\n",
       "      <th>2017</th>\n",
       "      <th>f_rate</th>\n",
       "      <th>gaku</th>\n",
       "      <th>life</th>\n",
       "      <th>sports</th>\n",
       "      <th>morals</th>\n",
       "      <th>jison</th>\n",
       "    </tr>\n",
       "  </thead>\n",
       "  <tbody>\n",
       "    <tr>\n",
       "      <th>0</th>\n",
       "      <td>Hokkaido</td>\n",
       "      <td>3.39</td>\n",
       "      <td>65.0</td>\n",
       "      <td>5.10</td>\n",
       "      <td>40.70</td>\n",
       "      <td>4.9</td>\n",
       "      <td>5.1</td>\n",
       "    </tr>\n",
       "    <tr>\n",
       "      <th>1</th>\n",
       "      <td>Aomori</td>\n",
       "      <td>2.99</td>\n",
       "      <td>66.3</td>\n",
       "      <td>5.25</td>\n",
       "      <td>42.28</td>\n",
       "      <td>5.3</td>\n",
       "      <td>5.4</td>\n",
       "    </tr>\n",
       "    <tr>\n",
       "      <th>2</th>\n",
       "      <td>Iwate</td>\n",
       "      <td>2.56</td>\n",
       "      <td>63.8</td>\n",
       "      <td>5.20</td>\n",
       "      <td>44.22</td>\n",
       "      <td>5.5</td>\n",
       "      <td>5.1</td>\n",
       "    </tr>\n",
       "    <tr>\n",
       "      <th>3</th>\n",
       "      <td>Miyagi</td>\n",
       "      <td>4.34</td>\n",
       "      <td>65.0</td>\n",
       "      <td>5.35</td>\n",
       "      <td>42.01</td>\n",
       "      <td>4.8</td>\n",
       "      <td>5.0</td>\n",
       "    </tr>\n",
       "    <tr>\n",
       "      <th>4</th>\n",
       "      <td>Akita</td>\n",
       "      <td>2.45</td>\n",
       "      <td>70.0</td>\n",
       "      <td>6.15</td>\n",
       "      <td>44.22</td>\n",
       "      <td>5.9</td>\n",
       "      <td>5.9</td>\n",
       "    </tr>\n",
       "  </tbody>\n",
       "</table>\n",
       "</div>"
      ],
      "text/plain": [
       "       2017  f_rate  gaku  life  sports  morals  jison\n",
       "0  Hokkaido    3.39  65.0  5.10   40.70     4.9    5.1\n",
       "1    Aomori    2.99  66.3  5.25   42.28     5.3    5.4\n",
       "2     Iwate    2.56  63.8  5.20   44.22     5.5    5.1\n",
       "3    Miyagi    4.34  65.0  5.35   42.01     4.8    5.0\n",
       "4     Akita    2.45  70.0  6.15   44.22     5.9    5.9"
      ]
     },
     "execution_count": 1,
     "metadata": {},
     "output_type": "execute_result"
    }
   ],
   "source": [
    "#2017年の中学生のデータを取り込み\n",
    "import pandas as pd\n",
    "df = pd.read_csv('pref_2017.csv')\n",
    "df.head()"
   ]
  },
  {
   "cell_type": "code",
   "execution_count": 2,
   "metadata": {},
   "outputs": [
    {
     "data": {
      "text/html": [
       "<div>\n",
       "<style scoped>\n",
       "    .dataframe tbody tr th:only-of-type {\n",
       "        vertical-align: middle;\n",
       "    }\n",
       "\n",
       "    .dataframe tbody tr th {\n",
       "        vertical-align: top;\n",
       "    }\n",
       "\n",
       "    .dataframe thead th {\n",
       "        text-align: right;\n",
       "    }\n",
       "</style>\n",
       "<table border=\"1\" class=\"dataframe\">\n",
       "  <thead>\n",
       "    <tr style=\"text-align: right;\">\n",
       "      <th></th>\n",
       "      <th>gaku</th>\n",
       "      <th>life</th>\n",
       "      <th>sports</th>\n",
       "      <th>morals</th>\n",
       "      <th>jison</th>\n",
       "    </tr>\n",
       "  </thead>\n",
       "  <tbody>\n",
       "    <tr>\n",
       "      <th>0</th>\n",
       "      <td>65.0</td>\n",
       "      <td>5.10</td>\n",
       "      <td>40.70</td>\n",
       "      <td>4.9</td>\n",
       "      <td>5.1</td>\n",
       "    </tr>\n",
       "    <tr>\n",
       "      <th>1</th>\n",
       "      <td>66.3</td>\n",
       "      <td>5.25</td>\n",
       "      <td>42.28</td>\n",
       "      <td>5.3</td>\n",
       "      <td>5.4</td>\n",
       "    </tr>\n",
       "    <tr>\n",
       "      <th>2</th>\n",
       "      <td>63.8</td>\n",
       "      <td>5.20</td>\n",
       "      <td>44.22</td>\n",
       "      <td>5.5</td>\n",
       "      <td>5.1</td>\n",
       "    </tr>\n",
       "    <tr>\n",
       "      <th>3</th>\n",
       "      <td>65.0</td>\n",
       "      <td>5.35</td>\n",
       "      <td>42.01</td>\n",
       "      <td>4.8</td>\n",
       "      <td>5.0</td>\n",
       "    </tr>\n",
       "    <tr>\n",
       "      <th>4</th>\n",
       "      <td>70.0</td>\n",
       "      <td>6.15</td>\n",
       "      <td>44.22</td>\n",
       "      <td>5.9</td>\n",
       "      <td>5.9</td>\n",
       "    </tr>\n",
       "  </tbody>\n",
       "</table>\n",
       "</div>"
      ],
      "text/plain": [
       "   gaku  life  sports  morals  jison\n",
       "0  65.0  5.10   40.70     4.9    5.1\n",
       "1  66.3  5.25   42.28     5.3    5.4\n",
       "2  63.8  5.20   44.22     5.5    5.1\n",
       "3  65.0  5.35   42.01     4.8    5.0\n",
       "4  70.0  6.15   44.22     5.9    5.9"
      ]
     },
     "execution_count": 2,
     "metadata": {},
     "output_type": "execute_result"
    }
   ],
   "source": [
    "#都道府県と不登校率の列を削除\n",
    "df_1 = df.drop(['2017', 'f_rate'], axis = 1)\n",
    "df_1.head()"
   ]
  },
  {
   "cell_type": "code",
   "execution_count": 3,
   "metadata": {},
   "outputs": [],
   "source": [
    "#データの標準化\n",
    "from sklearn.preprocessing import StandardScaler\n",
    "sc = StandardScaler()\n",
    "sc_df = sc.fit_transform(df_1)"
   ]
  },
  {
   "cell_type": "code",
   "execution_count": 4,
   "metadata": {},
   "outputs": [
    {
     "name": "stderr",
     "output_type": "stream",
     "text": [
      "/Users/yumikomabuchi/Library/Python/3.9/lib/python/site-packages/sklearn/cluster/_kmeans.py:870: FutureWarning: The default value of `n_init` will change from 10 to 'auto' in 1.4. Set the value of `n_init` explicitly to suppress the warning\n",
      "  warnings.warn(\n"
     ]
    },
    {
     "data": {
      "text/plain": [
       "array([1, 0, 0, 0, 2, 0, 1, 0, 0, 0, 0, 1, 1, 1, 0, 0, 2, 2, 0, 0, 0, 0,\n",
       "       1, 0, 1, 1, 1, 1, 1, 1, 1, 0, 0, 0, 0, 0, 1, 0, 0, 1, 0, 0, 1, 0,\n",
       "       0, 1, 1], dtype=int32)"
      ]
     },
     "execution_count": 4,
     "metadata": {},
     "output_type": "execute_result"
    }
   ],
   "source": [
    "#クラスを3つに指定してクラスタリングを実行\n",
    "from sklearn.cluster import KMeans\n",
    "model = KMeans(n_clusters = 3, random_state = 0)\n",
    "model.fit(sc_df)\n",
    "clusters = model.labels_\n",
    "clusters"
   ]
  },
  {
   "cell_type": "code",
   "execution_count": 5,
   "metadata": {},
   "outputs": [],
   "source": [
    "#tsneの実行\n",
    "from sklearn.manifold import TSNE\n",
    "tsne = TSNE(random_state=0).fit_transform(sc_df)"
   ]
  },
  {
   "cell_type": "code",
   "execution_count": 7,
   "metadata": {},
   "outputs": [
    {
     "data": {
      "image/png": "[encoded data removed]",
      "text/plain": [
       "<Figure size 640x480 with 2 Axes>"
      ]
     },
     "metadata": {},
     "output_type": "display_data"
    }
   ],
   "source": [
    "import matplotlib.pyplot as plt\n",
    "#不登校率によって3つの色分けを作る(低いグループ10県=0, 高いグループ10県=2, それ以外の県=1 )\n",
    "df.loc[df['f_rate']<=2.81, 'a'] = 0\n",
    "df.loc[(df['f_rate']>2.81) & (df['f_rate']<3.41), 'a'] = 1\n",
    "df.loc[df['f_rate']>=3.41, 'a'] = 2\n",
    "A = df['a']\n",
    "#不登校率による3つの色分けでプロットしてみる\n",
    "plt.scatter(tsne[:, 0], tsne[:, 1],cmap='Accent', c = A, alpha=0.7)\n",
    "plt.title('t-SNE plot')\n",
    "plt.colorbar()\n",
    "plt.show()"
   ]
  },
  {
   "cell_type": "code",
   "execution_count": 8,
   "metadata": {},
   "outputs": [
    {
     "data": {
      "text/html": [
       "<div>\n",
       "<style scoped>\n",
       "    .dataframe tbody tr th:only-of-type {\n",
       "        vertical-align: middle;\n",
       "    }\n",
       "\n",
       "    .dataframe tbody tr th {\n",
       "        vertical-align: top;\n",
       "    }\n",
       "\n",
       "    .dataframe thead th {\n",
       "        text-align: right;\n",
       "    }\n",
       "</style>\n",
       "<table border=\"1\" class=\"dataframe\">\n",
       "  <thead>\n",
       "    <tr style=\"text-align: right;\">\n",
       "      <th></th>\n",
       "      <th>stu_per_tch_jun</th>\n",
       "      <th>rate_OII_jun</th>\n",
       "    </tr>\n",
       "  </thead>\n",
       "  <tbody>\n",
       "    <tr>\n",
       "      <th>0</th>\n",
       "      <td>11.01</td>\n",
       "      <td>0.05</td>\n",
       "    </tr>\n",
       "    <tr>\n",
       "      <th>1</th>\n",
       "      <td>10.78</td>\n",
       "      <td>0.03</td>\n",
       "    </tr>\n",
       "    <tr>\n",
       "      <th>2</th>\n",
       "      <td>10.82</td>\n",
       "      <td>0.03</td>\n",
       "    </tr>\n",
       "    <tr>\n",
       "      <th>3</th>\n",
       "      <td>12.42</td>\n",
       "      <td>0.02</td>\n",
       "    </tr>\n",
       "    <tr>\n",
       "      <th>4</th>\n",
       "      <td>10.51</td>\n",
       "      <td>0.00</td>\n",
       "    </tr>\n",
       "  </tbody>\n",
       "</table>\n",
       "</div>"
      ],
      "text/plain": [
       "   stu_per_tch_jun  rate_OII_jun\n",
       "0            11.01          0.05\n",
       "1            10.78          0.03\n",
       "2            10.82          0.03\n",
       "3            12.42          0.02\n",
       "4            10.51          0.00"
      ]
     },
     "execution_count": 8,
     "metadata": {},
     "output_type": "execute_result"
    }
   ],
   "source": [
    "#別の都道府県データを読み込み\n",
    "df_tmp = pd.read_csv('pre_2017_tmp.csv')\n",
    "\n",
    "#不登校率の列を削除\n",
    "df_tmp_1 = df_tmp.drop(['2017', 'f_rate'], axis = 1)\n",
    "df_tmp_1.head()"
   ]
  },
  {
   "cell_type": "code",
   "execution_count": 9,
   "metadata": {},
   "outputs": [],
   "source": [
    "#データの標準化\n",
    "sc_df_1 = sc.fit_transform(df_tmp_1)"
   ]
  },
  {
   "cell_type": "code",
   "execution_count": 10,
   "metadata": {},
   "outputs": [
    {
     "name": "stderr",
     "output_type": "stream",
     "text": [
      "/Users/yumikomabuchi/Library/Python/3.9/lib/python/site-packages/sklearn/cluster/_kmeans.py:870: FutureWarning: The default value of `n_init` will change from 10 to 'auto' in 1.4. Set the value of `n_init` explicitly to suppress the warning\n",
      "  warnings.warn(\n"
     ]
    },
    {
     "data": {
      "text/plain": [
       "array([0, 0, 0, 0, 0, 0, 2, 1, 1, 1, 1, 1, 1, 1, 0, 1, 1, 0, 0, 0, 1, 1,\n",
       "       1, 1, 1, 1, 1, 1, 0, 0, 0, 0, 1, 1, 0, 0, 1, 0, 0, 1, 0, 0, 0, 0,\n",
       "       0, 0, 1], dtype=int32)"
      ]
     },
     "execution_count": 10,
     "metadata": {},
     "output_type": "execute_result"
    }
   ],
   "source": [
    "#PCAでクラスタリング\n",
    "model = KMeans(n_clusters = 3, random_state = 0)\n",
    "model.fit(sc_df_1)\n",
    "clusters_1 = model.labels_\n",
    "clusters_1"
   ]
  },
  {
   "cell_type": "code",
   "execution_count": 11,
   "metadata": {},
   "outputs": [],
   "source": [
    "#tsneの実行\n",
    "tsne_1 = TSNE(random_state=0).fit_transform(sc_df_1)\n"
   ]
  },
  {
   "cell_type": "code",
   "execution_count": 12,
   "metadata": {},
   "outputs": [
    {
     "data": {
      "image/png": "[encoded data removed]",
      "text/plain": [
       "<Figure size 640x480 with 2 Axes>"
      ]
     },
     "metadata": {},
     "output_type": "display_data"
    }
   ],
   "source": [
    "#不登校率にる3つの色分けでプロットして見る\n",
    "plt.scatter(tsne_1[:, 0], tsne_1[:, 1],cmap='Accent', c = A, alpha=0.7)\n",
    "plt.title('t-SNE plot_2')\n",
    "plt.colorbar()\n",
    "plt.show()"
   ]
  }
 ],
 "metadata": {
  "kernelspec": {
   "display_name": "Python 3",
   "language": "python",
   "name": "python3"
  },
  "language_info": {
   "codemirror_mode": {
    "name": "ipython",
    "version": 3
   },
   "file_extension": ".py",
   "mimetype": "text/x-python",
   "name": "python",
   "nbconvert_exporter": "python",
   "pygments_lexer": "ipython3",
   "version": "3.9.6"
  },
  "orig_nbformat": 4
 },
 "nbformat": 4,
 "nbformat_minor": 2
}
