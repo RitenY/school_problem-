{
 "cells": [
  {
   "cell_type": "code",
   "execution_count": 9,
   "metadata": {},
   "outputs": [
    {
     "data": {
      "text/html": [
       "<div>\n",
       "<style scoped>\n",
       "    .dataframe tbody tr th:only-of-type {\n",
       "        vertical-align: middle;\n",
       "    }\n",
       "\n",
       "    .dataframe tbody tr th {\n",
       "        vertical-align: top;\n",
       "    }\n",
       "\n",
       "    .dataframe thead th {\n",
       "        text-align: right;\n",
       "    }\n",
       "</style>\n",
       "<table border=\"1\" class=\"dataframe\">\n",
       "  <thead>\n",
       "    <tr style=\"text-align: right;\">\n",
       "      <th></th>\n",
       "      <th>2017</th>\n",
       "      <th>f_rate</th>\n",
       "      <th>gaku</th>\n",
       "      <th>life</th>\n",
       "      <th>sports</th>\n",
       "      <th>morals</th>\n",
       "      <th>jison</th>\n",
       "    </tr>\n",
       "  </thead>\n",
       "  <tbody>\n",
       "    <tr>\n",
       "      <th>0</th>\n",
       "      <td>Hokkaido</td>\n",
       "      <td>3.39</td>\n",
       "      <td>65.0</td>\n",
       "      <td>5.10</td>\n",
       "      <td>40.70</td>\n",
       "      <td>4.9</td>\n",
       "      <td>5.1</td>\n",
       "    </tr>\n",
       "    <tr>\n",
       "      <th>1</th>\n",
       "      <td>Aomori</td>\n",
       "      <td>2.99</td>\n",
       "      <td>66.3</td>\n",
       "      <td>5.25</td>\n",
       "      <td>42.28</td>\n",
       "      <td>5.3</td>\n",
       "      <td>5.4</td>\n",
       "    </tr>\n",
       "    <tr>\n",
       "      <th>2</th>\n",
       "      <td>Iwate</td>\n",
       "      <td>2.56</td>\n",
       "      <td>63.8</td>\n",
       "      <td>5.20</td>\n",
       "      <td>44.22</td>\n",
       "      <td>5.5</td>\n",
       "      <td>5.1</td>\n",
       "    </tr>\n",
       "    <tr>\n",
       "      <th>3</th>\n",
       "      <td>Miyagi</td>\n",
       "      <td>4.34</td>\n",
       "      <td>65.0</td>\n",
       "      <td>5.35</td>\n",
       "      <td>42.01</td>\n",
       "      <td>4.8</td>\n",
       "      <td>5.0</td>\n",
       "    </tr>\n",
       "    <tr>\n",
       "      <th>4</th>\n",
       "      <td>Akita</td>\n",
       "      <td>2.45</td>\n",
       "      <td>70.0</td>\n",
       "      <td>6.15</td>\n",
       "      <td>44.22</td>\n",
       "      <td>5.9</td>\n",
       "      <td>5.9</td>\n",
       "    </tr>\n",
       "  </tbody>\n",
       "</table>\n",
       "</div>"
      ],
      "text/plain": [
       "       2017  f_rate  gaku  life  sports  morals  jison\n",
       "0  Hokkaido    3.39  65.0  5.10   40.70     4.9    5.1\n",
       "1    Aomori    2.99  66.3  5.25   42.28     5.3    5.4\n",
       "2     Iwate    2.56  63.8  5.20   44.22     5.5    5.1\n",
       "3    Miyagi    4.34  65.0  5.35   42.01     4.8    5.0\n",
       "4     Akita    2.45  70.0  6.15   44.22     5.9    5.9"
      ]
     },
     "execution_count": 9,
     "metadata": {},
     "output_type": "execute_result"
    }
   ],
   "source": [
    "#T-SNEで主成分分析して特徴量を減らす\n",
    "#2017年の中学生のデータを取り込み\n",
    "import pandas as pd\n",
    "df = pd.read_csv('pref_2017.csv')\n",
    "df.head()"
   ]
  },
  {
   "cell_type": "code",
   "execution_count": null,
   "metadata": {},
   "outputs": [],
   "source": [
    "#データの標準化\n",
    "from sklearn.preprocessing import StandardScaler\n",
    "df1 = df.drop(['2017'], axis = 1)\n",
    "sc = StandardScaler()\n",
    "sc_df = sc.fit_transform(df1)"
   ]
  },
  {
   "cell_type": "code",
   "execution_count": null,
   "metadata": {},
   "outputs": [],
   "source": [
    "#tsneの実行\n",
    "from sklearn.manifold import TSNE\n",
    "model_t = TSNE(random_state=0).fit_transform(sc_df)"
   ]
  },
  {
   "cell_type": "code",
   "execution_count": 10,
   "metadata": {},
   "outputs": [
    {
     "data": {
      "text/html": [
       "<div>\n",
       "<style scoped>\n",
       "    .dataframe tbody tr th:only-of-type {\n",
       "        vertical-align: middle;\n",
       "    }\n",
       "\n",
       "    .dataframe tbody tr th {\n",
       "        vertical-align: top;\n",
       "    }\n",
       "\n",
       "    .dataframe thead th {\n",
       "        text-align: right;\n",
       "    }\n",
       "</style>\n",
       "<table border=\"1\" class=\"dataframe\">\n",
       "  <thead>\n",
       "    <tr style=\"text-align: right;\">\n",
       "      <th></th>\n",
       "      <th>PC1</th>\n",
       "      <th>PC2</th>\n",
       "      <th>2017</th>\n",
       "    </tr>\n",
       "  </thead>\n",
       "  <tbody>\n",
       "    <tr>\n",
       "      <th>0</th>\n",
       "      <td>3.066096</td>\n",
       "      <td>0.537863</td>\n",
       "      <td>Hokkaido</td>\n",
       "    </tr>\n",
       "    <tr>\n",
       "      <th>1</th>\n",
       "      <td>1.466091</td>\n",
       "      <td>0.288054</td>\n",
       "      <td>Aomori</td>\n",
       "    </tr>\n",
       "    <tr>\n",
       "      <th>2</th>\n",
       "      <td>1.629009</td>\n",
       "      <td>-0.767878</td>\n",
       "      <td>Iwate</td>\n",
       "    </tr>\n",
       "    <tr>\n",
       "      <th>3</th>\n",
       "      <td>3.287988</td>\n",
       "      <td>-1.535748</td>\n",
       "      <td>Miyagi</td>\n",
       "    </tr>\n",
       "    <tr>\n",
       "      <th>4</th>\n",
       "      <td>-0.031800</td>\n",
       "      <td>-0.794874</td>\n",
       "      <td>Akita</td>\n",
       "    </tr>\n",
       "  </tbody>\n",
       "</table>\n",
       "</div>"
      ],
      "text/plain": [
       "        PC1       PC2      2017\n",
       "0  3.066096  0.537863  Hokkaido\n",
       "1  1.466091  0.288054    Aomori\n",
       "2  1.629009 -0.767878     Iwate\n",
       "3  3.287988 -1.535748    Miyagi\n",
       "4 -0.031800 -0.794874     Akita"
      ]
     },
     "execution_count": 10,
     "metadata": {},
     "output_type": "execute_result"
    }
   ],
   "source": [
    "#tsneによって得られた列をデータフレームにして都道府県列を戻す\n",
    "new_df = pd.DataFrame(model_t)\n",
    "new_df.columns = ['PC1', 'PC2']\n",
    "new_df['2017'] = df['2017']\n",
    "new_df.head()"
   ]
  },
  {
   "cell_type": "code",
   "execution_count": null,
   "metadata": {},
   "outputs": [],
   "source": [
    "#相関係数を計算するために標準化済のもとのデータと主成分分析したデータを結合する\n",
    "df2 = pd.DataFrame(sc_df, columns = df1.columns)\n",
    "df3 = pd.concat([df2, new_df], axis = 1)"
   ]
  },
  {
   "cell_type": "code",
   "execution_count": 12,
   "metadata": {},
   "outputs": [
    {
     "name": "stderr",
     "output_type": "stream",
     "text": [
      "/var/folders/_y/mvf875zn6psbpm9bp64z5yr80000gn/T/ipykernel_2411/1997874967.py:2: FutureWarning: The default value of numeric_only in DataFrame.corr is deprecated. In a future version, it will default to False. Select only valid columns or specify the value of numeric_only to silence this warning.\n",
      "  df_corr = df3.corr()\n"
     ]
    },
    {
     "data": {
      "text/html": [
       "<div>\n",
       "<style scoped>\n",
       "    .dataframe tbody tr th:only-of-type {\n",
       "        vertical-align: middle;\n",
       "    }\n",
       "\n",
       "    .dataframe tbody tr th {\n",
       "        vertical-align: top;\n",
       "    }\n",
       "\n",
       "    .dataframe thead th {\n",
       "        text-align: right;\n",
       "    }\n",
       "</style>\n",
       "<table border=\"1\" class=\"dataframe\">\n",
       "  <thead>\n",
       "    <tr style=\"text-align: right;\">\n",
       "      <th></th>\n",
       "      <th>PC1</th>\n",
       "      <th>PC2</th>\n",
       "    </tr>\n",
       "  </thead>\n",
       "  <tbody>\n",
       "    <tr>\n",
       "      <th>f_rate</th>\n",
       "      <td>0.291713</td>\n",
       "      <td>-0.112908</td>\n",
       "    </tr>\n",
       "    <tr>\n",
       "      <th>gaku</th>\n",
       "      <td>-0.401672</td>\n",
       "      <td>-0.066633</td>\n",
       "    </tr>\n",
       "    <tr>\n",
       "      <th>life</th>\n",
       "      <td>-0.833825</td>\n",
       "      <td>-0.171295</td>\n",
       "    </tr>\n",
       "    <tr>\n",
       "      <th>sports</th>\n",
       "      <td>-0.565728</td>\n",
       "      <td>-0.746239</td>\n",
       "    </tr>\n",
       "    <tr>\n",
       "      <th>morals</th>\n",
       "      <td>-0.895152</td>\n",
       "      <td>-0.052167</td>\n",
       "    </tr>\n",
       "    <tr>\n",
       "      <th>jison</th>\n",
       "      <td>-0.910976</td>\n",
       "      <td>-0.107419</td>\n",
       "    </tr>\n",
       "  </tbody>\n",
       "</table>\n",
       "</div>"
      ],
      "text/plain": [
       "             PC1       PC2\n",
       "f_rate  0.291713 -0.112908\n",
       "gaku   -0.401672 -0.066633\n",
       "life   -0.833825 -0.171295\n",
       "sports -0.565728 -0.746239\n",
       "morals -0.895152 -0.052167\n",
       "jison  -0.910976 -0.107419"
      ]
     },
     "execution_count": 12,
     "metadata": {},
     "output_type": "execute_result"
    }
   ],
   "source": [
    "#相関係数\n",
    "df_corr = df3.corr()\n",
    "df_corr.loc[:'jison', 'PC1':]"
   ]
  },
  {
   "cell_type": "code",
   "execution_count": 13,
   "metadata": {},
   "outputs": [],
   "source": [
    "#csvへ書き出し\n",
    "new_df.to_csv('tsne_2017.csv')"
   ]
  }
 ],
 "metadata": {
  "kernelspec": {
   "display_name": "Python 3",
   "language": "python",
   "name": "python3"
  },
  "language_info": {
   "codemirror_mode": {
    "name": "ipython",
    "version": 3
   },
   "file_extension": ".py",
   "mimetype": "text/x-python",
   "name": "python",
   "nbconvert_exporter": "python",
   "pygments_lexer": "ipython3",
   "version": "3.9.6"
  },
  "orig_nbformat": 4
 },
 "nbformat": 4,
 "nbformat_minor": 2
}
