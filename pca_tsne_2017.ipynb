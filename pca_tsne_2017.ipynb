{
 "cells": [
  {
   "cell_type": "code",
   "execution_count": 1,
   "metadata": {},
   "outputs": [
    {
     "data": {
      "text/html": [
       "<div>\n",
       "<style scoped>\n",
       "    .dataframe tbody tr th:only-of-type {\n",
       "        vertical-align: middle;\n",
       "    }\n",
       "\n",
       "    .dataframe tbody tr th {\n",
       "        vertical-align: top;\n",
       "    }\n",
       "\n",
       "    .dataframe thead th {\n",
       "        text-align: right;\n",
       "    }\n",
       "</style>\n",
       "<table border=\"1\" class=\"dataframe\">\n",
       "  <thead>\n",
       "    <tr style=\"text-align: right;\">\n",
       "      <th></th>\n",
       "      <th>2017</th>\n",
       "      <th>f_rate</th>\n",
       "      <th>gaku</th>\n",
       "      <th>life</th>\n",
       "      <th>sports</th>\n",
       "      <th>morals</th>\n",
       "      <th>jison</th>\n",
       "    </tr>\n",
       "  </thead>\n",
       "  <tbody>\n",
       "    <tr>\n",
       "      <th>0</th>\n",
       "      <td>Hokkaido</td>\n",
       "      <td>3.39</td>\n",
       "      <td>65.0</td>\n",
       "      <td>5.10</td>\n",
       "      <td>40.70</td>\n",
       "      <td>4.9</td>\n",
       "      <td>5.1</td>\n",
       "    </tr>\n",
       "    <tr>\n",
       "      <th>1</th>\n",
       "      <td>Aomori</td>\n",
       "      <td>2.99</td>\n",
       "      <td>66.3</td>\n",
       "      <td>5.25</td>\n",
       "      <td>42.28</td>\n",
       "      <td>5.3</td>\n",
       "      <td>5.4</td>\n",
       "    </tr>\n",
       "    <tr>\n",
       "      <th>2</th>\n",
       "      <td>Iwate</td>\n",
       "      <td>2.56</td>\n",
       "      <td>63.8</td>\n",
       "      <td>5.20</td>\n",
       "      <td>44.22</td>\n",
       "      <td>5.5</td>\n",
       "      <td>5.1</td>\n",
       "    </tr>\n",
       "    <tr>\n",
       "      <th>3</th>\n",
       "      <td>Miyagi</td>\n",
       "      <td>4.34</td>\n",
       "      <td>65.0</td>\n",
       "      <td>5.35</td>\n",
       "      <td>42.01</td>\n",
       "      <td>4.8</td>\n",
       "      <td>5.0</td>\n",
       "    </tr>\n",
       "    <tr>\n",
       "      <th>4</th>\n",
       "      <td>Akita</td>\n",
       "      <td>2.45</td>\n",
       "      <td>70.0</td>\n",
       "      <td>6.15</td>\n",
       "      <td>44.22</td>\n",
       "      <td>5.9</td>\n",
       "      <td>5.9</td>\n",
       "    </tr>\n",
       "  </tbody>\n",
       "</table>\n",
       "</div>"
      ],
      "text/plain": [
       "       2017  f_rate  gaku  life  sports  morals  jison\n",
       "0  Hokkaido    3.39  65.0  5.10   40.70     4.9    5.1\n",
       "1    Aomori    2.99  66.3  5.25   42.28     5.3    5.4\n",
       "2     Iwate    2.56  63.8  5.20   44.22     5.5    5.1\n",
       "3    Miyagi    4.34  65.0  5.35   42.01     4.8    5.0\n",
       "4     Akita    2.45  70.0  6.15   44.22     5.9    5.9"
      ]
     },
     "execution_count": 1,
     "metadata": {},
     "output_type": "execute_result"
    }
   ],
   "source": [
    "#2017年の中学生のデータを取り込み\n",
    "import pandas as pd\n",
    "df1 = pd.read_csv('pref_2017.csv')\n",
    "df1.head()"
   ]
  },
  {
   "cell_type": "code",
   "execution_count": 2,
   "metadata": {},
   "outputs": [
    {
     "data": {
      "text/html": [
       "<div>\n",
       "<style scoped>\n",
       "    .dataframe tbody tr th:only-of-type {\n",
       "        vertical-align: middle;\n",
       "    }\n",
       "\n",
       "    .dataframe tbody tr th {\n",
       "        vertical-align: top;\n",
       "    }\n",
       "\n",
       "    .dataframe thead th {\n",
       "        text-align: right;\n",
       "    }\n",
       "</style>\n",
       "<table border=\"1\" class=\"dataframe\">\n",
       "  <thead>\n",
       "    <tr style=\"text-align: right;\">\n",
       "      <th></th>\n",
       "      <th>gaku</th>\n",
       "      <th>life</th>\n",
       "      <th>sports</th>\n",
       "      <th>morals</th>\n",
       "      <th>jison</th>\n",
       "    </tr>\n",
       "  </thead>\n",
       "  <tbody>\n",
       "    <tr>\n",
       "      <th>0</th>\n",
       "      <td>65.0</td>\n",
       "      <td>5.10</td>\n",
       "      <td>40.70</td>\n",
       "      <td>4.9</td>\n",
       "      <td>5.1</td>\n",
       "    </tr>\n",
       "    <tr>\n",
       "      <th>1</th>\n",
       "      <td>66.3</td>\n",
       "      <td>5.25</td>\n",
       "      <td>42.28</td>\n",
       "      <td>5.3</td>\n",
       "      <td>5.4</td>\n",
       "    </tr>\n",
       "    <tr>\n",
       "      <th>2</th>\n",
       "      <td>63.8</td>\n",
       "      <td>5.20</td>\n",
       "      <td>44.22</td>\n",
       "      <td>5.5</td>\n",
       "      <td>5.1</td>\n",
       "    </tr>\n",
       "    <tr>\n",
       "      <th>3</th>\n",
       "      <td>65.0</td>\n",
       "      <td>5.35</td>\n",
       "      <td>42.01</td>\n",
       "      <td>4.8</td>\n",
       "      <td>5.0</td>\n",
       "    </tr>\n",
       "    <tr>\n",
       "      <th>4</th>\n",
       "      <td>70.0</td>\n",
       "      <td>6.15</td>\n",
       "      <td>44.22</td>\n",
       "      <td>5.9</td>\n",
       "      <td>5.9</td>\n",
       "    </tr>\n",
       "  </tbody>\n",
       "</table>\n",
       "</div>"
      ],
      "text/plain": [
       "   gaku  life  sports  morals  jison\n",
       "0  65.0  5.10   40.70     4.9    5.1\n",
       "1  66.3  5.25   42.28     5.3    5.4\n",
       "2  63.8  5.20   44.22     5.5    5.1\n",
       "3  65.0  5.35   42.01     4.8    5.0\n",
       "4  70.0  6.15   44.22     5.9    5.9"
      ]
     },
     "execution_count": 2,
     "metadata": {},
     "output_type": "execute_result"
    }
   ],
   "source": [
    "#クラスタリングに必要ないので都道府県列,不登校率を削除\n",
    "df2 = df1.drop(['2017', 'f_rate'], axis = 1)\n",
    "df2.head()"
   ]
  },
  {
   "cell_type": "code",
   "execution_count": 3,
   "metadata": {},
   "outputs": [],
   "source": [
    "#標準化\n",
    "from sklearn.preprocessing import StandardScaler\n",
    "sc = StandardScaler()\n",
    "sc_df = sc.fit_transform(df2)"
   ]
  },
  {
   "cell_type": "code",
   "execution_count": 4,
   "metadata": {},
   "outputs": [
    {
     "data": {
      "text/plain": [
       "(47, 3)"
      ]
     },
     "execution_count": 4,
     "metadata": {},
     "output_type": "execute_result"
    }
   ],
   "source": [
    "#PCAで累積寄与率が90%になるように次元圧縮する\n",
    "from sklearn.decomposition import PCA\n",
    "pca = PCA(n_components = 0.9, svd_solver = 'full' )\n",
    "#新規列への学習と当てはめ\n",
    "pca_df = pca.fit_transform(sc_df)\n",
    "pca_df.shape"
   ]
  },
  {
   "cell_type": "code",
   "execution_count": 6,
   "metadata": {},
   "outputs": [
    {
     "data": {
      "text/plain": [
       "(47, 2)"
      ]
     },
     "execution_count": 6,
     "metadata": {},
     "output_type": "execute_result"
    }
   ],
   "source": [
    "#PCAで3次元に削減されたデータにt-sneを実行\n",
    "from sklearn.manifold import TSNE\n",
    "tsne = TSNE(random_state=0).fit_transform(pca_df)\n",
    "tsne.shape"
   ]
  },
  {
   "cell_type": "code",
   "execution_count": 7,
   "metadata": {},
   "outputs": [
    {
     "data": {
      "image/png": "[encoded data removed]",
      "text/plain": [
       "<Figure size 640x480 with 2 Axes>"
      ]
     },
     "metadata": {},
     "output_type": "display_data"
    }
   ],
   "source": [
    "#tsneの結果を不登校率で色分けしてプロット\n",
    "import matplotlib.pyplot as plt\n",
    "plt.scatter(tsne[:, 0], tsne[:, 1],cmap='Reds', c = df1['f_rate'])\n",
    "plt.title('t-SNE 2017')\n",
    "plt.colorbar()\n",
    "plt.show()"
   ]
  }
 ],
 "metadata": {
  "kernelspec": {
   "display_name": "Python 3",
   "language": "python",
   "name": "python3"
  },
  "language_info": {
   "codemirror_mode": {
    "name": "ipython",
    "version": 3
   },
   "file_extension": ".py",
   "mimetype": "text/x-python",
   "name": "python",
   "nbconvert_exporter": "python",
   "pygments_lexer": "ipython3",
   "version": "3.9.6"
  },
  "orig_nbformat": 4
 },
 "nbformat": 4,
 "nbformat_minor": 2
}
