{
 "cells": [
  {
   "cell_type": "markdown",
   "metadata": {},
   "source": []
  },
  {
   "attachments": {},
   "cell_type": "markdown",
   "metadata": {},
   "source": [
    "1.目的\n",
    "\n",
    "この分析では、不登校児童の増加の原因は何なのかを統計的に調べる。\n",
    "近年不登校児童が増加傾向にあることが社会的に問題になっており、個人的にも小学3年生の子供を持つ親として、とても関心のある問題である。増加の原因を知ることで不登校児童の減少、防止、対応策を考える材料になればとの思いでこの題材を分析することにした。\n",
    "2002年から本格的に実施されたいわゆるゆとり教育により、授業時間が中学3年間では3150時間から2940時間に短縮されいる。その後学力の低下が騒がれて2012年には3045時間に増加されている。\n",
    "不登校率のグラフを見ると、2002年から横ばいになり、2013年から増加に転じているのが見て取れる。ちょうどゆとり教育による授業時間の増減の時期と重なっている。そこで、以下の仮説が正しいか調べてみることにする。\n",
    "\n",
    "仮説：ゆとり教育による総授業時間の増減が不登校児童増加に影響している\n"
   ]
  },
  {
   "attachments": {},
   "cell_type": "markdown",
   "metadata": {},
   "source": [
    "2.方法\n",
    "\n",
    "データは、政府機関が公開している下記のものを分析に用いる。このデータは、1991年から2021年までの中学生の総数や不登校児童数、教員などに関するデータである。特に中学生の不登校率の増加幅が大きかったので、中学生のデータを対象とした。\n",
    "Pythonでの相関係数の計算結果や、Rでの多重共線性の確認の結果、特徴量を総授業時間^2と職務上の負傷・疾病での休職率の2つにしてPythonで重回帰分析を行うこれにより、不登校児童率増加に最も影響を与えているものは何かを知ることができるはずである。\n",
    "\"stu_per_tch_jun\" は不登校率との相関係数が高かったものの、逆の相関になっており、今回の分析にはそぐわないと判断したため特徴量からははずすことにした。\n",
    "\n",
    "● 分析データ\n",
    "https://github.com/RitenY/school_problem-.git\n",
    "data_jun.ipynb\n",
    "R_data_jun\n",
    "\n",
    "●　データセット\n",
    "futoko_rate_jun\t不登校児童\t\n",
    "\t\t不登校児童生徒数の推移\n",
    "\t\thttps://www.e-stat.go.jp/stat-search?page=1&toukei=00400304\n",
    "stu_per_tch_jun\t教員一人あたりの生徒数 (生徒数合計/教員数合計)\t\n",
    "\t生徒数合計\t\n",
    "\t教員数合計\t\n",
    "\t\te-Stat 都道府県データ\n",
    "\t\thttps://www.e-stat.go.jp/regional-statistics/ssdsview/prefectures\n",
    "classes_jun\t中学3年間の総授業時間\t\n",
    "\t\t学習指導要領の変遷\n",
    "\t\thttps://www.mext.go.jp/a_menu/shotou/new-cs/idea/1304360_002.pdf\n",
    "\t\t平成元年改訂/（実施）小学校：平成４年度、中学校：平成５年度\n",
    "\t\thttps://erid.nier.go.jp/files/COFS/h01j/index.htm\n",
    "\t\t平成10～11年改訂/（実施）小学校：平成１４年度、中学校：平成１４年度\n",
    "\t\thttps://erid.nier.go.jp/files/COFS/h10j/index.htm\n",
    "\t\t平成20～21年改訂/（実施） 小学校：平成２３年度、中学校：平成２４年度\n",
    "\t\thttps://erid.nier.go.jp/files/COFS/h19j/index.htm\n",
    "\t\t平成29～30年改訂/（実施） 小学校：令和２年度、中学校：令和３年度\n",
    "\t\thttps://erid.nier.go.jp/files/COFS/h29j/app1.htm\n",
    "rate_jun\t教員試験倍率\t\n",
    "\t\t公立学校教員採用選考試験の実施状況\n",
    "\t\thttps://www.mext.go.jp/a_menu/shotou/senkou/1243159.htm\n",
    "rate_OII_jun\t職務上の負傷・疾病での休職率 (職務上の負傷・疾病での休職職員数/職員合計*100)\t\n",
    "\t\t本務教員のうち理由別休職等教員数\n",
    "\t\thttps://www.e-stat.go.jp/stat-search/files?page=1&toukei=00400001&tstat=000001011528\n",
    "rate_Lve_jun\t休職中教員の割合 (休職職員数/職員合計*100)\t\n",
    "\t\t本務教員のうち理由別休職等教員数\n",
    "\t\thttps://www.e-stat.go.jp/stat-search/files?page=1&toukei=00400001&tstat=000001011528"
   ]
  },
  {
   "attachments": {},
   "cell_type": "markdown",
   "metadata": {},
   "source": [
    "3.結果\n",
    "\n",
    "Pytonでの重回帰分析で作成したモデルの決定係数は0.63であった。\n",
    "また、不登校児童率との相関係数は下記のように、総授業時間は0.48であった。\n",
    "\n",
    "stu_per_tch_jun                 0.890122\n",
    "rate_OII_jun                    0.813922\n",
    "rate_Lve_jun                    0.812653\n",
    "classes_jun                     0.476923\n",
    "\n",
    "Rでの多重共線性は下記のように、stu_per_tch_junとrate_Lve_junでは10を超えており、多重共線性がありそうである。\n",
    "stu_per_tch_jun     classes_jun        rate_jun    rate_OII_jun    rate_Lve_jun \n",
    "      52.591917        1.931079        7.333334        8.274620       77.440528 \n",
    "\n",
    "また、Rの重回帰分析の結果、classese_junの偏回帰係数は0.56でP<0.05を満たしていない。\n",
    "つまり、ゆとり教育による総授業時間の増減が不登校児童増加に影響しているという仮説は棄却された。"
   ]
  },
  {
   "cell_type": "markdown",
   "metadata": {},
   "source": []
  }
 ],
 "metadata": {
  "language_info": {
   "name": "python"
  },
  "orig_nbformat": 4
 },
 "nbformat": 4,
 "nbformat_minor": 2
}
